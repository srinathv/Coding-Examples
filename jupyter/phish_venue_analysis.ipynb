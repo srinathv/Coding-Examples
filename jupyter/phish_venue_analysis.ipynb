#The API key for application "jupyter" is: BC742244D05058B72A91
###The Public key for application "jupyter" is: A6DD37F74A75DF2F153


{
 "cells": [
  {
   "cell_type": "markdown",
   "id": "7d9fb7fb",
   "metadata": {},
   "source": [
    "# Phish Venue Capacity Analysis (1983–Present)\n",
    "Using the Phish.net API"
   ]
  },
  {
   "cell_type": "code",
   "execution_count": null,
   "id": "4f2ea8bf",
   "metadata": {},
   "outputs": [],
   "source": [
    "# Uncomment to install required packages\n",
    "# !pip install requests pandas matplotlib\n"
   ]
  },
  {
   "cell_type": "code",
   "execution_count": null,
   "id": "42c44f6b",
   "metadata": {},
   "outputs": [],
   "source": [
    "import requests\n",
    "import pandas as pd\n",
    "import matplotlib.pyplot as plt\n",
    "\n",
    "# Replace this with your actual API key\n",
    "API_KEY = ' BC742244D05058B72A91'\n",
    "BASE_URL = 'https://api.phish.net/v5/'\n"
   ]
  },
  {
   "cell_type": "code",
   "execution_count": null,
   "id": "fe78ff62",
   "metadata": {},
   "outputs": [],
   "source": [
    "def fetch_shows(api_key):\n",
    "    endpoint = f'{BASE_URL}shows.json?apikey={api_key}'\n",
    "    response = requests.get(endpoint)\n",
    "    if response.status_code == 200:\n",
    "        return response.json()['data']\n",
    "    else:\n",
    "        raise Exception(f'Error fetching shows: {response.status_code}')\n",
    "\n",
    "shows = fetch_shows(API_KEY)\n",
    "df_shows = pd.DataFrame(shows)\n",
    "df_shows.head()\n"
   ]
  },
  {
   "cell_type": "code",
   "execution_count": null,
   "id": "baa35422",
   "metadata": {},
   "outputs": [],
   "source": [
    "def fetch_venues(api_key):\n",
    "    endpoint = f'{BASE_URL}venues.json?apikey={api_key}'\n",
    "    response = requests.get(endpoint)\n",
    "    if response.status_code == 200:\n",
    "        return response.json()['data']\n",
    "    else:\n",
    "        raise Exception(f'Error fetching venues: {response.status_code}')\n",
    "\n",
    "venues = fetch_venues(API_KEY)\n",
    "df_venues = pd.DataFrame(venues)\n",
    "df_venues.head()\n"
   ]
  },
  {
   "cell_type": "code",
   "execution_count": null,
   "id": "f03153a3",
   "metadata": {},
   "outputs": [],
   "source": [
    "df_combined = pd.merge(df_shows, df_venues, on='venueid', suffixes=('_show', '_venue'))\n",
    "\n",
    "# Convert dates and extract year\n",
    "df_combined['showdate'] = pd.to_datetime(df_combined['showdate'], errors='coerce')\n",
    "df_combined['year'] = df_combined['showdate'].dt.year\n",
    "\n",
    "# Drop missing or non-numeric capacities\n",
    "df_combined = df_combined[pd.to_numeric(df_combined['capacity'], errors='coerce').notnull()]\n",
    "df_combined['capacity'] = df_combined['capacity'].astype(float)\n",
    "\n",
    "df_combined[['showdate', 'venue', 'location', 'capacity', 'year']].head()\n"
   ]
  },
  {
   "cell_type": "code",
   "execution_count": null,
   "id": "c5b32bb5",
   "metadata": {},
   "outputs": [],
   "source": [
    "df_avg_capacity = df_combined.groupby('year')['capacity'].mean().reset_index()\n",
    "df_avg_capacity.head()\n"
   ]
  },
  {
   "cell_type": "code",
   "execution_count": null,
   "id": "4af7c435",
   "metadata": {},
   "outputs": [],
   "source": [
    "plt.figure(figsize=(12, 6))\n",
    "plt.plot(df_avg_capacity['year'], df_avg_capacity['capacity'], marker='o')\n",
    "plt.title('Average Venue Capacity for Phish Performances (1983–Present)')\n",
    "plt.xlabel('Year')\n",
    "plt.ylabel('Average Venue Capacity')\n",
    "plt.grid(True)\n",
    "plt.tight_layout()\n",
    "plt.show()\n"
   ]
  }
 ],
 "metadata": {},
 "nbformat": 4,
 "nbformat_minor": 5
}
